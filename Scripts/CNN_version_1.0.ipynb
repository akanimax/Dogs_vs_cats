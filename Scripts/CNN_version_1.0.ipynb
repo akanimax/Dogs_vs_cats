{
 "cells": [
  {
   "cell_type": "markdown",
   "metadata": {},
   "source": [
    "CNN version 1.0\n",
    "=============\n",
    "Using the preprocessed Data\n",
    "------------\n",
    "\n",
    "Building upon the previous cnn version. \n",
    "\n",
    "This notebook uses a more sophisticated and a deeper cnn than the previous"
   ]
  },
  {
   "cell_type": "code",
   "execution_count": 1,
   "metadata": {
    "collapsed": true
   },
   "outputs": [],
   "source": [
    "# These are all the modules we'll be using later. Make sure you can import them\n",
    "# before proceeding further.\n",
    "from __future__ import print_function\n",
    "import os\n",
    "import numpy as np\n",
    "import tensorflow as tf\n",
    "from six.moves import cPickle as pickle\n",
    "from six.moves import range"
   ]
  },
  {
   "cell_type": "markdown",
   "metadata": {},
   "source": [
    "# Task 1: Load the data from the pickle file"
   ]
  },
  {
   "cell_type": "code",
   "execution_count": 9,
   "metadata": {
    "collapsed": true
   },
   "outputs": [],
   "source": [
    "'''Set the constant paths here'''\n",
    "# set the paths required for the script to work:\n",
    "root = \"../Data/\"\n",
    "pickle_file_path = root + \"Data_train_final.pickle\"\n",
    "log_path = root + \".logs\""
   ]
  },
  {
   "cell_type": "markdown",
   "metadata": {},
   "source": [
    "Retrieve the saved data from the pickle file"
   ]
  },
  {
   "cell_type": "code",
   "execution_count": 3,
   "metadata": {
    "collapsed": true
   },
   "outputs": [],
   "source": [
    "Formatted_Data = {}\n",
    "with open(pickle_file_path, \"rb\") as f:\n",
    "    Formatted_Data = pickle.load(f)"
   ]
  },
  {
   "cell_type": "code",
   "execution_count": 4,
   "metadata": {
    "collapsed": false
   },
   "outputs": [
    {
     "data": {
      "text/plain": [
       "7"
      ]
     },
     "execution_count": 4,
     "metadata": {},
     "output_type": "execute_result"
    }
   ],
   "source": [
    "len(Formatted_Data)"
   ]
  },
  {
   "cell_type": "code",
   "execution_count": 5,
   "metadata": {
    "collapsed": false
   },
   "outputs": [
    {
     "name": "stdout",
     "output_type": "stream",
     "text": [
      "{'dog': 1, 'cat': 0}\n",
      "(17500, 32, 32, 3) (2500, 32, 32, 3) (5000, 32, 32, 3)\n",
      "(17500, 2) (2500, 2) (5000, 2)\n"
     ]
    }
   ],
   "source": [
    "# recollect the fragmented data\n",
    "\n",
    "labels_mappings = Formatted_Data['label_mapping']\n",
    "print(labels_mappings)\n",
    "\n",
    "train_dataSet = Formatted_Data['train_data']\n",
    "train_labels  = Formatted_Data['train_labels']\n",
    "\n",
    "cv_dataSet = Formatted_Data['cv_data']\n",
    "cv_labels = Formatted_Data['cv_labels']\n",
    "\n",
    "test_dataSet = Formatted_Data['test_data']\n",
    "test_labels  = Formatted_Data['test_labels']\n",
    "\n",
    "print(train_dataSet.shape, cv_dataSet.shape, test_dataSet.shape)\n",
    "print(train_labels.shape, cv_labels.shape, test_labels.shape)"
   ]
  },
  {
   "cell_type": "markdown",
   "metadata": {
    "collapsed": true
   },
   "source": [
    "# Task 2: Spawn the CNN "
   ]
  },
  {
   "cell_type": "code",
   "execution_count": 6,
   "metadata": {
    "collapsed": true
   },
   "outputs": [],
   "source": [
    "# The accuracy function to calculate the accuracy of the classifier\n",
    "\n",
    "def accuracy(predictions, labels):\n",
    "    return (100.0 * np.sum(np.argmax(predictions, 1) == np.argmax(labels, 1)) / predictions.shape[0])"
   ]
  },
  {
   "cell_type": "code",
   "execution_count": 7,
   "metadata": {
    "collapsed": false
   },
   "outputs": [],
   "source": [
    "# define the constants required hence forth:\n",
    "batch_size = 100\n",
    "patch_size = 3\n",
    "num_hidden = 256\n",
    "\n",
    "image_size = 32\n",
    "num_labels = len(labels_mappings)\n",
    "num_channels = 3 # rgb images"
   ]
  },
  {
   "cell_type": "markdown",
   "metadata": {},
   "source": [
    "### The CNN tensorflow graph "
   ]
  },
  {
   "cell_type": "code",
   "execution_count": 93,
   "metadata": {
    "collapsed": true
   },
   "outputs": [],
   "source": [
    "def weightVariable(shape, Wname=\"W\"):\n",
    "    initial = tf.truncated_normal(shape, stddev = 0.1)\n",
    "    return tf.Variable(initial, name=Wname)\n",
    "        \n",
    "def biasVariable(shape, Bname=\"B\"):    \n",
    "    initial = tf.zeros(shape)\n",
    "    return tf.Variable(initial, name=Bname)\n",
    "        \n",
    "def addConvLayer(inp, shape, act_fun=tf.nn.relu):\n",
    "    with tf.name_scope(\"Conv_Layer\"):\n",
    "        with tf.name_scope(\"Parameters\"):\n",
    "            # create the weight variable:\n",
    "            layer_weight = weightVariable(shape, Wname=\"Filters\")\n",
    "\n",
    "            # create bias variable:\n",
    "            layer_bias = biasVariable([shape[-1]], Bname=\"Filter_biases\")\n",
    "\n",
    "        return act_fun(tf.nn.conv2d(inp, layer_weight, [1, 1, 1, 1], padding=\"SAME\") + layer_bias)\n",
    "    \n",
    "def addPoolLayer(inp, kernel, stride):\n",
    "    return tf.nn.max_pool(inp, ksize=kernel, strides=stride, padding='SAME')\n",
    "    \n",
    "def addFCLayer(inp, shape, act_fun=tf.nn.relu):\n",
    "    with tf.name_scope(\"Fully_Connected_Layer\"):\n",
    "        layer_weight = weightVariable(shape)\n",
    "        layer_bias = biasVariable([shape[-1]])\n",
    "\n",
    "        if(act_fun == None): \n",
    "            return tf.matmul(inp, layer_weight) + layer_bias\n",
    "        # else:\n",
    "        return act_fun(tf.matmul(inp, layer_weight) + layer_bias)"
   ]
  },
  {
   "cell_type": "code",
   "execution_count": 103,
   "metadata": {
    "collapsed": false
   },
   "outputs": [],
   "source": [
    "graph = tf.Graph()\n",
    "\n",
    "''' Neural network name: BotNet\n",
    "    Size: medium\n",
    "    conf: conv => conv => pool => conv => pool => fc => fc => softmax'''\n",
    "\n",
    "with graph.as_default():\n",
    "    \n",
    "    # Input data.\n",
    "    with tf.name_scope(\"INPUTS\"):\n",
    "        tf_train_dataset = tf.placeholder(tf.float32, shape=(batch_size, image_size, image_size, num_channels))\n",
    "        tf_train_labels = tf.placeholder(tf.float32, shape=(batch_size, num_labels))\n",
    "\n",
    "        tf_valid_dataset = tf.constant(cv_dataSet, name=\"cross_validation_dataset\")\n",
    "        tf_test_dataset = tf.constant(test_dataSet, name=\"test_dataset\")\n",
    "  \n",
    "    # Model.\n",
    "    def model(data):\n",
    "        # CONV LAYER \n",
    "        # layer has 8 (3 x 3) convoluting filters\n",
    "        layer_1 = addConvLayer(data, [patch_size, patch_size, num_channels, 8], tf.nn.sigmoid)\n",
    "    \n",
    "        # CONV LAYER\n",
    "        # layer has 16 (3 x 3) convoluting filters\n",
    "        layer_2 = addConvLayer(layer_1, [patch_size, patch_size, 8, 16], tf.nn.sigmoid)\n",
    "        \n",
    "        # POOL LAYER\n",
    "        # will not require any data variable or parameter holder\n",
    "        # a simple 2 x 2 max_pooling operation\n",
    "        layer_3 = addPoolLayer(layer_2, [1, 2, 2, 1], [1, 2, 2, 1])\n",
    "        \n",
    "        # CONV LAYER\n",
    "        # layer has 32 (3 x 3) convoluting filters\n",
    "        layer_4 = addConvLayer(layer_3, [patch_size, patch_size, 16, 32], tf.nn.sigmoid)\n",
    "        \n",
    "        # POOL LAYER\n",
    "        # will not require any data variable or parameter holder\n",
    "        # a simple 2 x 2 max_pooling operation\n",
    "        layer_5 = addPoolLayer(layer_4, [1, 2, 2, 1], [1, 2, 2, 1])\n",
    "        \n",
    "        # FC LAYER\n",
    "        # input dimension will be: 8 * 8 * 32\n",
    "        # length, width calculation: 32 =first pool=> 16 =second pool=> 8\n",
    "        # depth calculation: 32 ...(same as the last conv output)\n",
    "        # output dimension: 128 ...(equal to number of hidden cells)\n",
    "        # number of hidden cells: 128\n",
    "        # reshape the tensor before passing it to the FC layers\n",
    "        shape = layer_5.get_shape().as_list()\n",
    "        reshape = tf.reshape(layer_5, [shape[0], shape[1] * shape[2] * shape[3]])\n",
    "        layer_6 = addFCLayer(reshape, [8 * 8 * 32, num_hidden], tf.nn.sigmoid)\n",
    "        \n",
    "        # FC LAYER\n",
    "        # input dimension will be: 256\n",
    "        # output dimension will be: 256\n",
    "        # number of hidden cells: 256\n",
    "        layer_7 = addFCLayer(layer_6, [num_hidden, num_hidden], tf.nn.sigmoid)\n",
    "        \n",
    "        # Fianl output layer for the neural network\n",
    "        layer_8 = addFCLayer(layer_7, [num_hidden, num_labels], tf.nn.sigmoid)\n",
    "        \n",
    "        return layer_8\n",
    "  \n",
    "    # Training computation.\n",
    "    logits = model(tf_train_dataset)\n",
    "    \n",
    "    with tf.name_scope(\"Loss\"):\n",
    "        loss = tf.reduce_mean(tf.nn.softmax_cross_entropy_with_logits(logits, tf_train_labels))\n",
    "        tf.scalar_summary(\"loss\", loss)\n",
    "        \n",
    "    # Optimizer.\n",
    "    with tf.name_scope(\"train_step\"):\n",
    "        optimizer = tf.train.GradientDescentOptimizer(learning_rate=0.05).minimize(loss)\n",
    "  \n",
    "    # Predictions for the training, validation, and test data.\n",
    "    with tf.name_scope(\"train_prediction\"):\n",
    "        train_prediction = tf.nn.softmax(logits)\n",
    "    # validation_prediction = tf.nn.softmax(model(tf_valid_dataset))"
   ]
  },
  {
   "cell_type": "markdown",
   "metadata": {},
   "source": [
    "### Graph Excuter Session module"
   ]
  },
  {
   "cell_type": "code",
   "execution_count": null,
   "metadata": {
    "collapsed": false,
    "scrolled": false
   },
   "outputs": [
    {
     "name": "stdout",
     "output_type": "stream",
     "text": [
      "Initialized\n",
      "Minibatch loss at step 0: 0.727073\n",
      "Minibatch accuracy: 40.0%\n"
     ]
    }
   ],
   "source": [
    "num_steps = 5001\n",
    "                                                                                                                                                                                                                                                                                                                                                                                                                                                                                                                                                                                                                                                                                                                                                                                                                                                \n",
    "with tf.Session(graph=graph) as session:\n",
    "    train_writer = tf.train.SummaryWriter(os.path.join(log_path, \"train\"), session.graph)\n",
    "    merged = tf.merge_all_summaries()\n",
    "    tf.global_variables_initializer().run()\n",
    "    print('Initialized')\n",
    "  \n",
    "    for step in range(num_steps):\n",
    "        offset = (step * batch_size) % (train_labels.shape[0] - batch_size)\n",
    "        batch_data = train_dataSet[offset:(offset + batch_size), :, :, :]\n",
    "        batch_labels = train_labels[offset:(offset + batch_size), :]\n",
    "        \n",
    "        feed_dict = {tf_train_dataset : batch_data, tf_train_labels : batch_labels}\n",
    "        _, l, predictions = session.run([optimizer, loss, train_prediction], feed_dict=feed_dict)\n",
    "    \n",
    "        if (step % 500 == 0):\n",
    "            summary = session.run(merged, feed_dict=feed_dict)\n",
    "            train_writer.add_summary(summary, step)\n",
    "            print('Minibatch loss at step %d: %f' % (step, l))\n",
    "            print('Minibatch accuracy: %.1f%%' % accuracy(predictions, batch_labels))\n",
    "            \n",
    "    #print('Cross Validation_Set Accuracy: %1f%%' % accuracy(validation_prediction.eval(), cv_labels))"
   ]
  },
  {
   "cell_type": "code",
   "execution_count": null,
   "metadata": {
    "collapsed": true
   },
   "outputs": [],
   "source": []
  }
 ],
 "metadata": {
  "anaconda-cloud": {},
  "kernelspec": {
   "display_name": "Python [Root]",
   "language": "python",
   "name": "Python [Root]"
  },
  "language_info": {
   "codemirror_mode": {
    "name": "ipython",
    "version": 2
   },
   "file_extension": ".py",
   "mimetype": "text/x-python",
   "name": "python",
   "nbconvert_exporter": "python",
   "pygments_lexer": "ipython2",
   "version": "2.7.12"
  }
 },
 "nbformat": 4,
 "nbformat_minor": 1
}
