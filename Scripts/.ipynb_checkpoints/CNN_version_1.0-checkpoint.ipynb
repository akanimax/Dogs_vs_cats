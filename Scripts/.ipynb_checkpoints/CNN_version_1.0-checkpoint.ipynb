{
 "cells": [
  {
   "cell_type": "markdown",
   "metadata": {},
   "source": [
    "CNN version 1.0\n",
    "=============\n",
    "Using the preprocessed Data\n",
    "------------\n",
    "\n",
    "Building upon the previous cnn version. \n",
    "\n",
    "This notebook uses a more sophisticated and a deeper cnn than the previous"
   ]
  },
  {
   "cell_type": "code",
   "execution_count": 1,
   "metadata": {
    "collapsed": true
   },
   "outputs": [],
   "source": [
    "# These are all the modules we'll be using later. Make sure you can import them\n",
    "# before proceeding further.\n",
    "from __future__ import print_function\n",
    "import os\n",
    "import numpy as np\n",
    "import tensorflow as tf\n",
    "from six.moves import cPickle as pickle\n",
    "from six.moves import range"
   ]
  },
  {
   "cell_type": "markdown",
   "metadata": {},
   "source": [
    "# Task 1: Load the data from the pickle file"
   ]
  },
  {
   "cell_type": "code",
   "execution_count": 9,
   "metadata": {
    "collapsed": true
   },
   "outputs": [],
   "source": [
    "'''Set the constant paths here'''\n",
    "# set the paths required for the script to work:\n",
    "root = \"../Data/\"\n",
    "pickle_file_path = root + \"Data_train_final.pickle\"\n",
    "log_path = root + \".logs\""
   ]
  },
  {
   "cell_type": "markdown",
   "metadata": {},
   "source": [
    "Retrieve the saved data from the pickle file"
   ]
  },
  {
   "cell_type": "code",
   "execution_count": 3,
   "metadata": {
    "collapsed": true
   },
   "outputs": [],
   "source": [
    "Formatted_Data = {}\n",
    "with open(pickle_file_path, \"rb\") as f:\n",
    "    Formatted_Data = pickle.load(f)"
   ]
  },
  {
   "cell_type": "code",
   "execution_count": 4,
   "metadata": {
    "collapsed": false
   },
   "outputs": [
    {
     "data": {
      "text/plain": [
       "7"
      ]
     },
     "execution_count": 4,
     "metadata": {},
     "output_type": "execute_result"
    }
   ],
   "source": [
    "len(Formatted_Data)"
   ]
  },
  {
   "cell_type": "code",
   "execution_count": 5,
   "metadata": {
    "collapsed": false
   },
   "outputs": [
    {
     "name": "stdout",
     "output_type": "stream",
     "text": [
      "{'dog': 1, 'cat': 0}\n",
      "(17500, 32, 32, 3) (2500, 32, 32, 3) (5000, 32, 32, 3)\n",
      "(17500, 2) (2500, 2) (5000, 2)\n"
     ]
    }
   ],
   "source": [
    "# recollect the fragmented data\n",
    "\n",
    "labels_mappings = Formatted_Data['label_mapping']\n",
    "print(labels_mappings)\n",
    "\n",
    "train_dataSet = Formatted_Data['train_data']\n",
    "train_labels  = Formatted_Data['train_labels']\n",
    "\n",
    "cv_dataSet = Formatted_Data['cv_data']\n",
    "cv_labels = Formatted_Data['cv_labels']\n",
    "\n",
    "test_dataSet = Formatted_Data['test_data']\n",
    "test_labels  = Formatted_Data['test_labels']\n",
    "\n",
    "print(train_dataSet.shape, cv_dataSet.shape, test_dataSet.shape)\n",
    "print(train_labels.shape, cv_labels.shape, test_labels.shape)"
   ]
  },
  {
   "cell_type": "markdown",
   "metadata": {
    "collapsed": true
   },
   "source": [
    "# Task 2: Spawn the CNN "
   ]
  },
  {
   "cell_type": "code",
   "execution_count": 6,
   "metadata": {
    "collapsed": true
   },
   "outputs": [],
   "source": [
    "# The accuracy function to calculate the accuracy of the classifier\n",
    "\n",
    "def accuracy(predictions, labels):\n",
    "    return (100.0 * np.sum(np.argmax(predictions, 1) == np.argmax(labels, 1)) / predictions.shape[0])"
   ]
  },
  {
   "cell_type": "code",
   "execution_count": 7,
   "metadata": {
    "collapsed": false
   },
   "outputs": [],
   "source": [
    "# define the constants required hence forth:\n",
    "batch_size = 100\n",
    "patch_size = 3\n",
    "num_hidden = 256\n",
    "\n",
    "image_size = 32\n",
    "num_labels = len(labels_mappings)\n",
    "num_channels = 3 # rgb images"
   ]
  },
  {
   "cell_type": "markdown",
   "metadata": {},
   "source": [
    "### The CNN tensorflow graph "
   ]
  },
  {
   "cell_type": "code",
   "execution_count": 93,
   "metadata": {
    "collapsed": true
   },
   "outputs": [],
   "source": [
    "def weightVariable(shape, Wname=\"W\"):\n",
    "    initial = tf.truncated_normal(shape, stddev = 0.1)\n",
    "    return tf.Variable(initial, name=Wname)\n",
    "        \n",
    "def biasVariable(shape, Bname=\"B\"):    \n",
    "    initial = tf.zeros(shape)\n",
    "    return tf.Variable(initial, name=Bname)\n",
    "        \n",
    "def addConvLayer(inp, shape, act_fun=tf.nn.relu):\n",
    "    with tf.name_scope(\"Conv_Layer\"):\n",
    "        with tf.name_scope(\"Parameters\"):\n",
    "            # create the weight variable:\n",
    "            layer_weight = weightVariable(shape, Wname=\"Filters\")\n",
    "\n",
    "            # create bias variable:\n",
    "            layer_bias = biasVariable([shape[-1]], Bname=\"Filter_biases\")\n",
    "\n",
    "        return act_fun(tf.nn.conv2d(inp, layer_weight, [1, 1, 1, 1], padding=\"SAME\") + layer_bias)\n",
    "    \n",
    "def addPoolLayer(inp, kernel, stride):\n",
    "    return tf.nn.max_pool(inp, ksize=kernel, strides=stride, padding='SAME')\n",
    "    \n",
    "def addFCLayer(inp, shape, act_fun=tf.nn.relu):\n",
    "    with tf.name_scope(\"Fully_Connected_Layer\"):\n",
    "        layer_weight = weightVariable(shape)\n",
    "        layer_bias = biasVariable([shape[-1]])\n",
    "\n",
    "        if(act_fun == None): \n",
    "            return tf.matmul(inp, layer_weight) + layer_bias\n",
    "        # else:\n",
    "        return act_fun(tf.matmul(inp, layer_weight) + layer_bias)"
   ]
  },
  {
   "cell_type": "code",
   "execution_count": 103,
   "metadata": {
    "collapsed": false
   },
   "outputs": [],
   "source": [
    "graph = tf.Graph()\n",
    "\n",
    "''' Neural network name: BotNet\n",
    "    Size: medium\n",
    "    conf: conv => conv => pool => conv => pool => fc => fc => softmax'''\n",
    "\n",
    "with graph.as_default():\n",
    "    \n",
    "    # Input data.\n",
    "    with tf.name_scope(\"INPUTS\"):\n",
    "        tf_train_dataset = tf.placeholder(tf.float32, shape=(batch_size, image_size, image_size, num_channels))\n",
    "        tf_train_labels = tf.placeholder(tf.float32, shape=(batch_size, num_labels))\n",
    "\n",
    "        tf_valid_dataset = tf.constant(cv_dataSet, name=\"cross_validation_dataset\")\n",
    "        tf_test_dataset = tf.constant(test_dataSet, name=\"test_dataset\")\n",
    "  \n",
    "    # Model.\n",
    "    def model(data):\n",
    "        # CONV LAYER \n",
    "        # layer has 8 (3 x 3) convoluting filters\n",
    "        layer_1 = addConvLayer(data, [patch_size, patch_size, num_channels, 8], tf.nn.sigmoid)\n",
    "    \n",
    "        # CONV LAYER\n",
    "        # layer has 16 (3 x 3) convoluting filters\n",
    "        layer_2 = addConvLayer(layer_1, [patch_size, patch_size, 8, 16], tf.nn.sigmoid)\n",
    "        \n",
    "        # POOL LAYER\n",
    "        # will not require any data variable or parameter holder\n",
    "        # a simple 2 x 2 max_pooling operation\n",
    "        layer_3 = addPoolLayer(layer_2, [1, 2, 2, 1], [1, 2, 2, 1])\n",
    "        \n",
    "        # CONV LAYER\n",
    "        # layer has 32 (3 x 3) convoluting filters\n",
    "        layer_4 = addConvLayer(layer_3, [patch_size, patch_size, 16, 32], tf.nn.sigmoid)\n",
    "        \n",
    "        # POOL LAYER\n",
    "        # will not require any data variable or parameter holder\n",
    "        # a simple 2 x 2 max_pooling operation\n",
    "        layer_5 = addPoolLayer(layer_4, [1, 2, 2, 1], [1, 2, 2, 1])\n",
    "        \n",
    "        # FC LAYER\n",
    "        # input dimension will be: 8 * 8 * 32\n",
    "        # length, width calculation: 32 =first pool=> 16 =second pool=> 8\n",
    "        # depth calculation: 32 ...(same as the last conv output)\n",
    "        # output dimension: 128 ...(equal to number of hidden cells)\n",
    "        # number of hidden cells: 128\n",
    "        # reshape the tensor before passing it to the FC layers\n",
    "        shape = layer_5.get_shape().as_list()\n",
    "        reshape = tf.reshape(layer_5, [shape[0], shape[1] * shape[2] * shape[3]])\n",
    "        layer_6 = addFCLayer(reshape, [8 * 8 * 32, num_hidden], tf.nn.sigmoid)\n",
    "        \n",
    "        # FC LAYER\n",
    "        # input dimension will be: 256\n",
    "        # output dimension will be: 256\n",
    "        # number of hidden cells: 256\n",
    "        layer_7 = addFCLayer(layer_6, [num_hidden, num_hidden], tf.nn.sigmoid)\n",
    "        \n",
    "        # Fianl output layer for the neural network\n",
    "        layer_8 = addFCLayer(layer_7, [num_hidden, num_labels], tf.nn.sigmoid)\n",
    "        \n",
    "        return layer_8\n",
    "  \n",
    "    # Training computation.\n",
    "    logits = model(tf_train_dataset)\n",
    "    \n",
    "    with tf.name_scope(\"Loss\"):\n",
    "        loss = tf.reduce_mean(tf.nn.softmax_cross_entropy_with_logits(logits, tf_train_labels))\n",
    "        tf.scalar_summary(\"loss\", loss)\n",
    "        \n",
    "    # Optimizer.\n",
    "    with tf.name_scope(\"train_step\"):\n",
    "        optimizer = tf.train.GradientDescentOptimizer(learning_rate=0.05).minimize(loss)\n",
    "  \n",
    "    # Predictions for the training, validation, and test data.\n",
    "    with tf.name_scope(\"train_prediction\"):\n",
    "        train_prediction = tf.nn.softmax(logits)\n",
    "    # validation_prediction = tf.nn.softmax(model(tf_valid_dataset))"
   ]
  },
  {
   "cell_type": "markdown",
   "metadata": {},
   "source": [
    "### Graph Excuter Session module"
   ]
  },
  {
   "cell_type": "code",
   "execution_count": 104,
   "metadata": {
    "collapsed": false,
    "scrolled": false
   },
   "outputs": [
    {
     "name": "stdout",
     "output_type": "stream",
     "text": [
      "Initialized\n"
     ]
    },
    {
     "ename": "InvalidArgumentError",
     "evalue": "You must feed a value for placeholder tensor 'INPUTS/Placeholder_1' with dtype float and shape [100,2]\n\t [[Node: INPUTS/Placeholder_1 = Placeholder[dtype=DT_FLOAT, shape=[100,2], _device=\"/job:localhost/replica:0/task:0/cpu:0\"]()]]\n\nCaused by op u'INPUTS/Placeholder_1', defined at:\n  File \"/home/botman/Programming/Platforms/anaconda2/lib/python2.7/runpy.py\", line 174, in _run_module_as_main\n    \"__main__\", fname, loader, pkg_name)\n  File \"/home/botman/Programming/Platforms/anaconda2/lib/python2.7/runpy.py\", line 72, in _run_code\n    exec code in run_globals\n  File \"/home/botman/Programming/Platforms/anaconda2/lib/python2.7/site-packages/ipykernel/__main__.py\", line 3, in <module>\n    app.launch_new_instance()\n  File \"/home/botman/Programming/Platforms/anaconda2/lib/python2.7/site-packages/traitlets/config/application.py\", line 596, in launch_instance\n    app.start()\n  File \"/home/botman/Programming/Platforms/anaconda2/lib/python2.7/site-packages/ipykernel/kernelapp.py\", line 442, in start\n    ioloop.IOLoop.instance().start()\n  File \"/home/botman/Programming/Platforms/anaconda2/lib/python2.7/site-packages/zmq/eventloop/ioloop.py\", line 162, in start\n    super(ZMQIOLoop, self).start()\n  File \"/home/botman/Programming/Platforms/anaconda2/lib/python2.7/site-packages/tornado/ioloop.py\", line 883, in start\n    handler_func(fd_obj, events)\n  File \"/home/botman/Programming/Platforms/anaconda2/lib/python2.7/site-packages/tornado/stack_context.py\", line 275, in null_wrapper\n    return fn(*args, **kwargs)\n  File \"/home/botman/Programming/Platforms/anaconda2/lib/python2.7/site-packages/zmq/eventloop/zmqstream.py\", line 440, in _handle_events\n    self._handle_recv()\n  File \"/home/botman/Programming/Platforms/anaconda2/lib/python2.7/site-packages/zmq/eventloop/zmqstream.py\", line 472, in _handle_recv\n    self._run_callback(callback, msg)\n  File \"/home/botman/Programming/Platforms/anaconda2/lib/python2.7/site-packages/zmq/eventloop/zmqstream.py\", line 414, in _run_callback\n    callback(*args, **kwargs)\n  File \"/home/botman/Programming/Platforms/anaconda2/lib/python2.7/site-packages/tornado/stack_context.py\", line 275, in null_wrapper\n    return fn(*args, **kwargs)\n  File \"/home/botman/Programming/Platforms/anaconda2/lib/python2.7/site-packages/ipykernel/kernelbase.py\", line 276, in dispatcher\n    return self.dispatch_shell(stream, msg)\n  File \"/home/botman/Programming/Platforms/anaconda2/lib/python2.7/site-packages/ipykernel/kernelbase.py\", line 228, in dispatch_shell\n    handler(stream, idents, msg)\n  File \"/home/botman/Programming/Platforms/anaconda2/lib/python2.7/site-packages/ipykernel/kernelbase.py\", line 391, in execute_request\n    user_expressions, allow_stdin)\n  File \"/home/botman/Programming/Platforms/anaconda2/lib/python2.7/site-packages/ipykernel/ipkernel.py\", line 199, in do_execute\n    shell.run_cell(code, store_history=store_history, silent=silent)\n  File \"/home/botman/Programming/Platforms/anaconda2/lib/python2.7/site-packages/IPython/core/interactiveshell.py\", line 2723, in run_cell\n    interactivity=interactivity, compiler=compiler, result=result)\n  File \"/home/botman/Programming/Platforms/anaconda2/lib/python2.7/site-packages/IPython/core/interactiveshell.py\", line 2825, in run_ast_nodes\n    if self.run_code(code, result):\n  File \"/home/botman/Programming/Platforms/anaconda2/lib/python2.7/site-packages/IPython/core/interactiveshell.py\", line 2885, in run_code\n    exec(code_obj, self.user_global_ns, self.user_ns)\n  File \"<ipython-input-103-b15b1f543ece>\", line 12, in <module>\n    tf_train_labels = tf.placeholder(tf.float32, shape=(batch_size, num_labels))\n  File \"/home/botman/Programming/Platforms/anaconda2/lib/python2.7/site-packages/tensorflow/python/ops/array_ops.py\", line 1512, in placeholder\n    name=name)\n  File \"/home/botman/Programming/Platforms/anaconda2/lib/python2.7/site-packages/tensorflow/python/ops/gen_array_ops.py\", line 2043, in _placeholder\n    name=name)\n  File \"/home/botman/Programming/Platforms/anaconda2/lib/python2.7/site-packages/tensorflow/python/framework/op_def_library.py\", line 759, in apply_op\n    op_def=op_def)\n  File \"/home/botman/Programming/Platforms/anaconda2/lib/python2.7/site-packages/tensorflow/python/framework/ops.py\", line 2240, in create_op\n    original_op=self._default_original_op, op_def=op_def)\n  File \"/home/botman/Programming/Platforms/anaconda2/lib/python2.7/site-packages/tensorflow/python/framework/ops.py\", line 1128, in __init__\n    self._traceback = _extract_stack()\n\nInvalidArgumentError (see above for traceback): You must feed a value for placeholder tensor 'INPUTS/Placeholder_1' with dtype float and shape [100,2]\n\t [[Node: INPUTS/Placeholder_1 = Placeholder[dtype=DT_FLOAT, shape=[100,2], _device=\"/job:localhost/replica:0/task:0/cpu:0\"]()]]\n",
     "output_type": "error",
     "traceback": [
      "\u001b[1;31m---------------------------------------------------------------------------\u001b[0m",
      "\u001b[1;31mInvalidArgumentError\u001b[0m                      Traceback (most recent call last)",
      "\u001b[1;32m<ipython-input-104-6fd08a3fba73>\u001b[0m in \u001b[0;36m<module>\u001b[1;34m()\u001b[0m\n\u001b[0;32m     16\u001b[0m \u001b[1;33m\u001b[0m\u001b[0m\n\u001b[0;32m     17\u001b[0m         \u001b[1;32mif\u001b[0m \u001b[1;33m(\u001b[0m\u001b[0mstep\u001b[0m \u001b[1;33m%\u001b[0m \u001b[1;36m500\u001b[0m \u001b[1;33m==\u001b[0m \u001b[1;36m0\u001b[0m\u001b[1;33m)\u001b[0m\u001b[1;33m:\u001b[0m\u001b[1;33m\u001b[0m\u001b[0m\n\u001b[1;32m---> 18\u001b[1;33m             \u001b[0msummary\u001b[0m \u001b[1;33m=\u001b[0m \u001b[0msession\u001b[0m\u001b[1;33m.\u001b[0m\u001b[0mrun\u001b[0m\u001b[1;33m(\u001b[0m\u001b[0mmerged\u001b[0m\u001b[1;33m)\u001b[0m\u001b[1;33m\u001b[0m\u001b[0m\n\u001b[0m\u001b[0;32m     19\u001b[0m             \u001b[0mtrain_writer\u001b[0m\u001b[1;33m.\u001b[0m\u001b[0madd_summary\u001b[0m\u001b[1;33m(\u001b[0m\u001b[0msummary\u001b[0m\u001b[1;33m,\u001b[0m \u001b[0mstep\u001b[0m\u001b[1;33m)\u001b[0m\u001b[1;33m\u001b[0m\u001b[0m\n\u001b[0;32m     20\u001b[0m             \u001b[1;32mprint\u001b[0m\u001b[1;33m(\u001b[0m\u001b[1;34m'Minibatch loss at step %d: %f'\u001b[0m \u001b[1;33m%\u001b[0m \u001b[1;33m(\u001b[0m\u001b[0mstep\u001b[0m\u001b[1;33m,\u001b[0m \u001b[0ml\u001b[0m\u001b[1;33m)\u001b[0m\u001b[1;33m)\u001b[0m\u001b[1;33m\u001b[0m\u001b[0m\n",
      "\u001b[1;32m/home/botman/Programming/Platforms/anaconda2/lib/python2.7/site-packages/tensorflow/python/client/session.pyc\u001b[0m in \u001b[0;36mrun\u001b[1;34m(self, fetches, feed_dict, options, run_metadata)\u001b[0m\n\u001b[0;32m    764\u001b[0m     \u001b[1;32mtry\u001b[0m\u001b[1;33m:\u001b[0m\u001b[1;33m\u001b[0m\u001b[0m\n\u001b[0;32m    765\u001b[0m       result = self._run(None, fetches, feed_dict, options_ptr,\n\u001b[1;32m--> 766\u001b[1;33m                          run_metadata_ptr)\n\u001b[0m\u001b[0;32m    767\u001b[0m       \u001b[1;32mif\u001b[0m \u001b[0mrun_metadata\u001b[0m\u001b[1;33m:\u001b[0m\u001b[1;33m\u001b[0m\u001b[0m\n\u001b[0;32m    768\u001b[0m         \u001b[0mproto_data\u001b[0m \u001b[1;33m=\u001b[0m \u001b[0mtf_session\u001b[0m\u001b[1;33m.\u001b[0m\u001b[0mTF_GetBuffer\u001b[0m\u001b[1;33m(\u001b[0m\u001b[0mrun_metadata_ptr\u001b[0m\u001b[1;33m)\u001b[0m\u001b[1;33m\u001b[0m\u001b[0m\n",
      "\u001b[1;32m/home/botman/Programming/Platforms/anaconda2/lib/python2.7/site-packages/tensorflow/python/client/session.pyc\u001b[0m in \u001b[0;36m_run\u001b[1;34m(self, handle, fetches, feed_dict, options, run_metadata)\u001b[0m\n\u001b[0;32m    962\u001b[0m     \u001b[1;32mif\u001b[0m \u001b[0mfinal_fetches\u001b[0m \u001b[1;32mor\u001b[0m \u001b[0mfinal_targets\u001b[0m\u001b[1;33m:\u001b[0m\u001b[1;33m\u001b[0m\u001b[0m\n\u001b[0;32m    963\u001b[0m       results = self._do_run(handle, final_targets, final_fetches,\n\u001b[1;32m--> 964\u001b[1;33m                              feed_dict_string, options, run_metadata)\n\u001b[0m\u001b[0;32m    965\u001b[0m     \u001b[1;32melse\u001b[0m\u001b[1;33m:\u001b[0m\u001b[1;33m\u001b[0m\u001b[0m\n\u001b[0;32m    966\u001b[0m       \u001b[0mresults\u001b[0m \u001b[1;33m=\u001b[0m \u001b[1;33m[\u001b[0m\u001b[1;33m]\u001b[0m\u001b[1;33m\u001b[0m\u001b[0m\n",
      "\u001b[1;32m/home/botman/Programming/Platforms/anaconda2/lib/python2.7/site-packages/tensorflow/python/client/session.pyc\u001b[0m in \u001b[0;36m_do_run\u001b[1;34m(self, handle, target_list, fetch_list, feed_dict, options, run_metadata)\u001b[0m\n\u001b[0;32m   1012\u001b[0m     \u001b[1;32mif\u001b[0m \u001b[0mhandle\u001b[0m \u001b[1;32mis\u001b[0m \u001b[0mNone\u001b[0m\u001b[1;33m:\u001b[0m\u001b[1;33m\u001b[0m\u001b[0m\n\u001b[0;32m   1013\u001b[0m       return self._do_call(_run_fn, self._session, feed_dict, fetch_list,\n\u001b[1;32m-> 1014\u001b[1;33m                            target_list, options, run_metadata)\n\u001b[0m\u001b[0;32m   1015\u001b[0m     \u001b[1;32melse\u001b[0m\u001b[1;33m:\u001b[0m\u001b[1;33m\u001b[0m\u001b[0m\n\u001b[0;32m   1016\u001b[0m       return self._do_call(_prun_fn, self._session, handle, feed_dict,\n",
      "\u001b[1;32m/home/botman/Programming/Platforms/anaconda2/lib/python2.7/site-packages/tensorflow/python/client/session.pyc\u001b[0m in \u001b[0;36m_do_call\u001b[1;34m(self, fn, *args)\u001b[0m\n\u001b[0;32m   1032\u001b[0m         \u001b[1;32mexcept\u001b[0m \u001b[0mKeyError\u001b[0m\u001b[1;33m:\u001b[0m\u001b[1;33m\u001b[0m\u001b[0m\n\u001b[0;32m   1033\u001b[0m           \u001b[1;32mpass\u001b[0m\u001b[1;33m\u001b[0m\u001b[0m\n\u001b[1;32m-> 1034\u001b[1;33m       \u001b[1;32mraise\u001b[0m \u001b[0mtype\u001b[0m\u001b[1;33m(\u001b[0m\u001b[0me\u001b[0m\u001b[1;33m)\u001b[0m\u001b[1;33m(\u001b[0m\u001b[0mnode_def\u001b[0m\u001b[1;33m,\u001b[0m \u001b[0mop\u001b[0m\u001b[1;33m,\u001b[0m \u001b[0mmessage\u001b[0m\u001b[1;33m)\u001b[0m\u001b[1;33m\u001b[0m\u001b[0m\n\u001b[0m\u001b[0;32m   1035\u001b[0m \u001b[1;33m\u001b[0m\u001b[0m\n\u001b[0;32m   1036\u001b[0m   \u001b[1;32mdef\u001b[0m \u001b[0m_extend_graph\u001b[0m\u001b[1;33m(\u001b[0m\u001b[0mself\u001b[0m\u001b[1;33m)\u001b[0m\u001b[1;33m:\u001b[0m\u001b[1;33m\u001b[0m\u001b[0m\n",
      "\u001b[1;31mInvalidArgumentError\u001b[0m: You must feed a value for placeholder tensor 'INPUTS/Placeholder_1' with dtype float and shape [100,2]\n\t [[Node: INPUTS/Placeholder_1 = Placeholder[dtype=DT_FLOAT, shape=[100,2], _device=\"/job:localhost/replica:0/task:0/cpu:0\"]()]]\n\nCaused by op u'INPUTS/Placeholder_1', defined at:\n  File \"/home/botman/Programming/Platforms/anaconda2/lib/python2.7/runpy.py\", line 174, in _run_module_as_main\n    \"__main__\", fname, loader, pkg_name)\n  File \"/home/botman/Programming/Platforms/anaconda2/lib/python2.7/runpy.py\", line 72, in _run_code\n    exec code in run_globals\n  File \"/home/botman/Programming/Platforms/anaconda2/lib/python2.7/site-packages/ipykernel/__main__.py\", line 3, in <module>\n    app.launch_new_instance()\n  File \"/home/botman/Programming/Platforms/anaconda2/lib/python2.7/site-packages/traitlets/config/application.py\", line 596, in launch_instance\n    app.start()\n  File \"/home/botman/Programming/Platforms/anaconda2/lib/python2.7/site-packages/ipykernel/kernelapp.py\", line 442, in start\n    ioloop.IOLoop.instance().start()\n  File \"/home/botman/Programming/Platforms/anaconda2/lib/python2.7/site-packages/zmq/eventloop/ioloop.py\", line 162, in start\n    super(ZMQIOLoop, self).start()\n  File \"/home/botman/Programming/Platforms/anaconda2/lib/python2.7/site-packages/tornado/ioloop.py\", line 883, in start\n    handler_func(fd_obj, events)\n  File \"/home/botman/Programming/Platforms/anaconda2/lib/python2.7/site-packages/tornado/stack_context.py\", line 275, in null_wrapper\n    return fn(*args, **kwargs)\n  File \"/home/botman/Programming/Platforms/anaconda2/lib/python2.7/site-packages/zmq/eventloop/zmqstream.py\", line 440, in _handle_events\n    self._handle_recv()\n  File \"/home/botman/Programming/Platforms/anaconda2/lib/python2.7/site-packages/zmq/eventloop/zmqstream.py\", line 472, in _handle_recv\n    self._run_callback(callback, msg)\n  File \"/home/botman/Programming/Platforms/anaconda2/lib/python2.7/site-packages/zmq/eventloop/zmqstream.py\", line 414, in _run_callback\n    callback(*args, **kwargs)\n  File \"/home/botman/Programming/Platforms/anaconda2/lib/python2.7/site-packages/tornado/stack_context.py\", line 275, in null_wrapper\n    return fn(*args, **kwargs)\n  File \"/home/botman/Programming/Platforms/anaconda2/lib/python2.7/site-packages/ipykernel/kernelbase.py\", line 276, in dispatcher\n    return self.dispatch_shell(stream, msg)\n  File \"/home/botman/Programming/Platforms/anaconda2/lib/python2.7/site-packages/ipykernel/kernelbase.py\", line 228, in dispatch_shell\n    handler(stream, idents, msg)\n  File \"/home/botman/Programming/Platforms/anaconda2/lib/python2.7/site-packages/ipykernel/kernelbase.py\", line 391, in execute_request\n    user_expressions, allow_stdin)\n  File \"/home/botman/Programming/Platforms/anaconda2/lib/python2.7/site-packages/ipykernel/ipkernel.py\", line 199, in do_execute\n    shell.run_cell(code, store_history=store_history, silent=silent)\n  File \"/home/botman/Programming/Platforms/anaconda2/lib/python2.7/site-packages/IPython/core/interactiveshell.py\", line 2723, in run_cell\n    interactivity=interactivity, compiler=compiler, result=result)\n  File \"/home/botman/Programming/Platforms/anaconda2/lib/python2.7/site-packages/IPython/core/interactiveshell.py\", line 2825, in run_ast_nodes\n    if self.run_code(code, result):\n  File \"/home/botman/Programming/Platforms/anaconda2/lib/python2.7/site-packages/IPython/core/interactiveshell.py\", line 2885, in run_code\n    exec(code_obj, self.user_global_ns, self.user_ns)\n  File \"<ipython-input-103-b15b1f543ece>\", line 12, in <module>\n    tf_train_labels = tf.placeholder(tf.float32, shape=(batch_size, num_labels))\n  File \"/home/botman/Programming/Platforms/anaconda2/lib/python2.7/site-packages/tensorflow/python/ops/array_ops.py\", line 1512, in placeholder\n    name=name)\n  File \"/home/botman/Programming/Platforms/anaconda2/lib/python2.7/site-packages/tensorflow/python/ops/gen_array_ops.py\", line 2043, in _placeholder\n    name=name)\n  File \"/home/botman/Programming/Platforms/anaconda2/lib/python2.7/site-packages/tensorflow/python/framework/op_def_library.py\", line 759, in apply_op\n    op_def=op_def)\n  File \"/home/botman/Programming/Platforms/anaconda2/lib/python2.7/site-packages/tensorflow/python/framework/ops.py\", line 2240, in create_op\n    original_op=self._default_original_op, op_def=op_def)\n  File \"/home/botman/Programming/Platforms/anaconda2/lib/python2.7/site-packages/tensorflow/python/framework/ops.py\", line 1128, in __init__\n    self._traceback = _extract_stack()\n\nInvalidArgumentError (see above for traceback): You must feed a value for placeholder tensor 'INPUTS/Placeholder_1' with dtype float and shape [100,2]\n\t [[Node: INPUTS/Placeholder_1 = Placeholder[dtype=DT_FLOAT, shape=[100,2], _device=\"/job:localhost/replica:0/task:0/cpu:0\"]()]]\n"
     ]
    }
   ],
   "source": [
    "num_steps = 5001\n",
    "                                                                                                                                                                                                                                                                                                                                                                                                                                                                                                                                                                                                                                                                                                                                                                                                                                                \n",
    "with tf.Session(graph=graph) as session:\n",
    "    train_writer = tf.train.SummaryWriter(os.path.join(log_path, \"train\"), session.graph)\n",
    "    merged = tf.merge_all_summaries()\n",
    "    tf.global_variables_initializer().run()\n",
    "    print('Initialized')\n",
    "  \n",
    "    for step in range(num_steps):\n",
    "        offset = (step * batch_size) % (train_labels.shape[0] - batch_size)\n",
    "        batch_data = train_dataSet[offset:(offset + batch_size), :, :, :]\n",
    "        batch_labels = train_labels[offset:(offset + batch_size), :]\n",
    "        \n",
    "        feed_dict = {tf_train_dataset : batch_data, tf_train_labels : batch_labels}\n",
    "        _, l, predictions = session.run([optimizer, loss, train_prediction], feed_dict=feed_dict)\n",
    "    \n",
    "        if (step % 500 == 0):\n",
    "            summary = session.run(merged, feed_dict=feed_dict)\n",
    "            train_writer.add_summary(summary, step)\n",
    "            print('Minibatch loss at step %d: %f' % (step, l))\n",
    "            print('Minibatch accuracy: %.1f%%' % accuracy(predictions, batch_labels))\n",
    "            \n",
    "    #print('Cross Validation_Set Accuracy: %1f%%' % accuracy(validation_prediction.eval(), cv_labels))"
   ]
  },
  {
   "cell_type": "code",
   "execution_count": null,
   "metadata": {
    "collapsed": true
   },
   "outputs": [],
   "source": []
  }
 ],
 "metadata": {
  "anaconda-cloud": {},
  "kernelspec": {
   "display_name": "Python [Root]",
   "language": "python",
   "name": "Python [Root]"
  },
  "language_info": {
   "codemirror_mode": {
    "name": "ipython",
    "version": 2
   },
   "file_extension": ".py",
   "mimetype": "text/x-python",
   "name": "python",
   "nbconvert_exporter": "python",
   "pygments_lexer": "ipython2",
   "version": "2.7.12"
  }
 },
 "nbformat": 4,
 "nbformat_minor": 1
}
